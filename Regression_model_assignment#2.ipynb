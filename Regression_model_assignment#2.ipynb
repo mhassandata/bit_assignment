{
 "cells": [
  {
   "cell_type": "code",
   "execution_count": 1,
   "metadata": {
    "id": "WegTgZvRrdxO"
   },
   "outputs": [],
   "source": [
    "import pandas as pd\n",
    "from sklearn.linear_model import LinearRegression\n",
    "from sklearn.model_selection import train_test_split"
   ]
  },
  {
   "cell_type": "markdown",
   "metadata": {
    "id": "qdZDSaliriz0"
   },
   "source": [
    "Linear regression is a supervised learning technique which helps us to predict a variable (dependent variable) on the basis of one or two independent variables. i.e.\n",
    "\n",
    "\\begin{equation}\n",
    "\\ f(x) =  W* X + {b}_i\n",
    "\\end{equation}\n",
    "\n",
    "where W is the weight, x is the input and b is the bias"
   ]
  },
  {
   "cell_type": "markdown",
   "metadata": {
    "id": "5s9CqUH4yJTF"
   },
   "source": [
    "to read the csv file and load it into a variable called df we will use the following command."
   ]
  },
  {
   "cell_type": "code",
   "execution_count": 4,
   "metadata": {
    "id": "ggnkAaD6sYUE"
   },
   "outputs": [],
   "source": [
    "df = pd.read_excel('salary.xlsx')"
   ]
  },
  {
   "cell_type": "code",
   "execution_count": 5,
   "metadata": {
    "colab": {
     "base_uri": "https://localhost:8080/",
     "height": 655
    },
    "id": "KA9jSo8dyZKI",
    "outputId": "f011a790-d1f3-4175-8558-b7f332f6cd5a"
   },
   "outputs": [
    {
     "data": {
      "text/html": [
       "<div>\n",
       "<style scoped>\n",
       "    .dataframe tbody tr th:only-of-type {\n",
       "        vertical-align: middle;\n",
       "    }\n",
       "\n",
       "    .dataframe tbody tr th {\n",
       "        vertical-align: top;\n",
       "    }\n",
       "\n",
       "    .dataframe thead th {\n",
       "        text-align: right;\n",
       "    }\n",
       "</style>\n",
       "<table border=\"1\" class=\"dataframe\">\n",
       "  <thead>\n",
       "    <tr style=\"text-align: right;\">\n",
       "      <th></th>\n",
       "      <th>Age</th>\n",
       "      <th>Experience</th>\n",
       "      <th>Salary</th>\n",
       "    </tr>\n",
       "  </thead>\n",
       "  <tbody>\n",
       "    <tr>\n",
       "      <th>0</th>\n",
       "      <td>32</td>\n",
       "      <td>6</td>\n",
       "      <td>95000</td>\n",
       "    </tr>\n",
       "    <tr>\n",
       "      <th>1</th>\n",
       "      <td>28</td>\n",
       "      <td>4</td>\n",
       "      <td>100000</td>\n",
       "    </tr>\n",
       "    <tr>\n",
       "      <th>2</th>\n",
       "      <td>35</td>\n",
       "      <td>11</td>\n",
       "      <td>145000</td>\n",
       "    </tr>\n",
       "    <tr>\n",
       "      <th>3</th>\n",
       "      <td>25</td>\n",
       "      <td>2</td>\n",
       "      <td>75000</td>\n",
       "    </tr>\n",
       "    <tr>\n",
       "      <th>4</th>\n",
       "      <td>31</td>\n",
       "      <td>8</td>\n",
       "      <td>110000</td>\n",
       "    </tr>\n",
       "  </tbody>\n",
       "</table>\n",
       "</div>"
      ],
      "text/plain": [
       "   Age  Experience  Salary\n",
       "0   32           6   95000\n",
       "1   28           4  100000\n",
       "2   35          11  145000\n",
       "3   25           2   75000\n",
       "4   31           8  110000"
      ]
     },
     "execution_count": 5,
     "metadata": {},
     "output_type": "execute_result"
    }
   ],
   "source": [
    "# to view the dataframe we will use the following command\n",
    "df.head()"
   ]
  },
  {
   "cell_type": "markdown",
   "metadata": {
    "id": "kxr_d46SznT4"
   },
   "source": [
    "First we will se the datatypes of the columns in order to bring them in the neccessary format."
   ]
  },
  {
   "cell_type": "code",
   "execution_count": 6,
   "metadata": {
    "id": "6MGP2Utazm5L"
   },
   "outputs": [
    {
     "data": {
      "text/plain": [
       "(36, 3)"
      ]
     },
     "execution_count": 6,
     "metadata": {},
     "output_type": "execute_result"
    }
   ],
   "source": [
    "df.shape"
   ]
  },
  {
   "cell_type": "code",
   "execution_count": 7,
   "metadata": {
    "colab": {
     "base_uri": "https://localhost:8080/"
    },
    "id": "NcZhtdZvzZtI",
    "outputId": "01b12bec-55a2-4edc-839c-06c19cfb8fe4"
   },
   "outputs": [
    {
     "data": {
      "text/plain": [
       "Age           int64\n",
       "Experience    int64\n",
       "Salary        int64\n",
       "dtype: object"
      ]
     },
     "execution_count": 7,
     "metadata": {},
     "output_type": "execute_result"
    }
   ],
   "source": [
    "df.dtypes"
   ]
  },
  {
   "cell_type": "code",
   "execution_count": 10,
   "metadata": {
    "id": "Wn7Ohw6-ziEo"
   },
   "outputs": [],
   "source": [
    "# the datatype of salary is object which is datatype of pandas dataframe\n",
    "# we will convert this into integer type\n",
    "# df['Salary'] = df['Salary'].str.replace(',','').astype('int')"
   ]
  },
  {
   "cell_type": "code",
   "execution_count": 11,
   "metadata": {
    "colab": {
     "base_uri": "https://localhost:8080/"
    },
    "id": "4mwXBzOV0W25",
    "outputId": "081faa51-387f-41a7-ac33-239f1d1aa7fd"
   },
   "outputs": [
    {
     "data": {
      "text/plain": [
       "Age           int64\n",
       "Experience    int64\n",
       "Salary        int64\n",
       "dtype: object"
      ]
     },
     "execution_count": 11,
     "metadata": {},
     "output_type": "execute_result"
    }
   ],
   "source": [
    "df.dtypes"
   ]
  },
  {
   "cell_type": "markdown",
   "metadata": {
    "id": "Mm5iyrpA1N1u"
   },
   "source": [
    "now we will split the model into features and target variables i.e. X and Y"
   ]
  },
  {
   "cell_type": "code",
   "execution_count": 26,
   "metadata": {
    "id": "2Nel9T7w0yQu"
   },
   "outputs": [],
   "source": [
    "# x is reshaped into 1D array\n",
    "x = df[['Experience','Age']]\n",
    "y = df['Salary']\n",
    "# to split the data in to testing data and training data,\n",
    "# we will use the test data to test our model performance\n",
    "x_train,x_test,y_train,y_test = train_test_split(x,y,test_size=0.2,random_state=10)"
   ]
  },
  {
   "cell_type": "code",
   "execution_count": 27,
   "metadata": {
    "colab": {
     "base_uri": "https://localhost:8080/"
    },
    "id": "e0RO_WJs1614",
    "outputId": "d71a86e8-d176-4c48-a193-b439eccd2af2"
   },
   "outputs": [
    {
     "data": {
      "text/plain": [
       "LinearRegression()"
      ]
     },
     "execution_count": 27,
     "metadata": {},
     "output_type": "execute_result"
    }
   ],
   "source": [
    "# now we will initiate a model i.e linear regression model\n",
    "model = LinearRegression()\n",
    "# .fit(x,y) takes in values of x and y and train the model based on those parameters\n",
    "model.fit(x_train,y_train)"
   ]
  },
  {
   "cell_type": "code",
   "execution_count": 32,
   "metadata": {
    "colab": {
     "base_uri": "https://localhost:8080/"
    },
    "id": "xlBTma0E2-Kc",
    "outputId": "858bfd50-fd54-400b-dd19-f44574eeea55"
   },
   "outputs": [
    {
     "name": "stderr",
     "output_type": "stream",
     "text": [
      "C:\\ProgramData\\Anaconda3\\lib\\site-packages\\sklearn\\base.py:450: UserWarning: X does not have valid feature names, but LinearRegression was fitted with feature names\n",
      "  warnings.warn(\n"
     ]
    },
    {
     "data": {
      "text/plain": [
       "array([46444.60112812])"
      ]
     },
     "execution_count": 32,
     "metadata": {},
     "output_type": "execute_result"
    }
   ],
   "source": [
    "model.predict([[4, 40]])"
   ]
  },
  {
   "cell_type": "markdown",
   "metadata": {
    "id": "qmN6BUpI45xX"
   },
   "source": [
    "array([99008.46740051]) is the predicted value i.e predicted value is 99000"
   ]
  },
  {
   "cell_type": "code",
   "execution_count": 33,
   "metadata": {
    "id": "9rJO_iB237bn"
   },
   "outputs": [],
   "source": [
    "# now we will test the model\n",
    "from sklearn.metrics import mean_squared_error, r2_score\n",
    "y_pred = model.predict(x_test)"
   ]
  },
  {
   "cell_type": "code",
   "execution_count": 34,
   "metadata": {
    "colab": {
     "base_uri": "https://localhost:8080/"
    },
    "id": "FYGUJvr35NXt",
    "outputId": "260d0cb1-7067-4371-f5ed-b35ee5ba72df"
   },
   "outputs": [
    {
     "name": "stdout",
     "output_type": "stream",
     "text": [
      "Mean Squared Error:  266763140.17821306\n",
      "R2 Score:  0.9020491051554467\n"
     ]
    }
   ],
   "source": [
    "mse = mean_squared_error(y_test, y_pred)\n",
    "r2 = r2_score(y_test, y_pred)\n",
    "\n",
    "print(\"Mean Squared Error: \", mse)\n",
    "print(\"R2 Score: \", r2)"
   ]
  },
  {
   "cell_type": "code",
   "execution_count": 35,
   "metadata": {
    "colab": {
     "base_uri": "https://localhost:8080/"
    },
    "id": "Q0mz4O0G5R-h",
    "outputId": "caacd00f-b210-415c-b0ee-cc55fdc2997c"
   },
   "outputs": [
    {
     "data": {
      "text/plain": [
       "0.9020491051554467"
      ]
     },
     "execution_count": 35,
     "metadata": {},
     "output_type": "execute_result"
    }
   ],
   "source": [
    "model.score(x_test,y_test)"
   ]
  },
  {
   "cell_type": "code",
   "execution_count": 24,
   "metadata": {
    "id": "OQNy4O-a5XPl"
   },
   "outputs": [],
   "source": [
    "# which indicates that model is 90%$ accurate"
   ]
  },
  {
   "cell_type": "code",
   "execution_count": null,
   "metadata": {
    "id": "MBRWCrW55fGn"
   },
   "outputs": [],
   "source": []
  }
 ],
 "metadata": {
  "colab": {
   "provenance": []
  },
  "kernelspec": {
   "display_name": "Python 3 (ipykernel)",
   "language": "python",
   "name": "python3"
  },
  "language_info": {
   "codemirror_mode": {
    "name": "ipython",
    "version": 3
   },
   "file_extension": ".py",
   "mimetype": "text/x-python",
   "name": "python",
   "nbconvert_exporter": "python",
   "pygments_lexer": "ipython3",
   "version": "3.9.13"
  }
 },
 "nbformat": 4,
 "nbformat_minor": 1
}
